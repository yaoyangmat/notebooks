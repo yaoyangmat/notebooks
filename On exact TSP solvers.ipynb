{
 "cells": [
  {
   "cell_type": "code",
   "execution_count": 1,
   "metadata": {},
   "outputs": [],
   "source": [
    "%matplotlib inline\n",
    "import matplotlib.pyplot as plt\n",
    "import numpy as np"
   ]
  },
  {
   "cell_type": "code",
   "execution_count": 2,
   "metadata": {},
   "outputs": [],
   "source": [
    "from core.TSP import tsp_solver_1"
   ]
  },
  {
   "cell_type": "markdown",
   "metadata": {},
   "source": [
    "## Sanity check on Berlin TSP\n",
    "The berlin52 problem is symmetric, has 52 data points and an optimal tour length of 7544. "
   ]
  },
  {
   "cell_type": "code",
   "execution_count": 3,
   "metadata": {},
   "outputs": [
    {
     "name": "stdout",
     "output_type": "stream",
     "text": [
      "(52, 52)\n"
     ]
    }
   ],
   "source": [
    "from data.berlin_problem import read_berlin_file, points_to_matrix\n",
    "points = read_berlin_file()\n",
    "cost_matrix = points_to_matrix(read_berlin_file())\n",
    "print(cost_matrix.shape)"
   ]
  },
  {
   "cell_type": "code",
   "execution_count": 4,
   "metadata": {},
   "outputs": [
    {
     "name": "stdout",
     "output_type": "stream",
     "text": [
      "[0, 21, 30, 17, 2, 16, 20, 41, 6, 1, 29, 22, 19, 49, 28, 15, 45, 43, 33, 34, 35, 38, 39, 36, 37, 47, 23, 4, 14, 5, 3, 24, 11, 27, 26, 25, 46, 12, 13, 51, 10, 50, 32, 42, 9, 8, 7, 40, 18, 44, 31, 48]\n",
      "Objective value = 7544.365901904088\n",
      "Time elapsed = 38.56651735305786\n"
     ]
    }
   ],
   "source": [
    "cycle, obj_value, time_elapsed = tsp_solver_1(cost_matrix, solver='glpk')\n",
    "print(cycle)\n",
    "print(\"Objective value = {}\".format(obj_value))\n",
    "print(\"Time elapsed = {}\".format(time_elapsed))\n",
    "assert abs(obj_value - 7544) < 1"
   ]
  },
  {
   "cell_type": "code",
   "execution_count": 5,
   "metadata": {},
   "outputs": [
    {
     "data": {
      "image/png": "[encoded data removed]",
      "text/plain": [
       "<Figure size 432x288 with 1 Axes>"
      ]
     },
     "metadata": {},
     "output_type": "display_data"
    }
   ],
   "source": [
    "# Plotting the optimal found route\n",
    "for i in range(len(cycle)-1):\n",
    "    start = cycle[i]\n",
    "    end = cycle[i+1]\n",
    "    x = [points[start][0], points[end][0]]\n",
    "    y = [points[start][1], points[end][1]]\n",
    "    plt.plot(x, y, 'rx-')"
   ]
  },
  {
   "cell_type": "markdown",
   "metadata": {},
   "source": [
    "## GLPK vs CPLEX\n",
    "In the following example, we see that the GLPK solver suffers from numerical instability when some entries in the cost matrix are extremely large. "
   ]
  },
  {
   "cell_type": "code",
   "execution_count": 6,
   "metadata": {},
   "outputs": [],
   "source": [
    "# Note the large entry 1.e+15\n",
    "cost_matrix = np.array([[0.e+00, 2.e+00, 3.e+00, 5.e+00, 2.e+02, 1.e+15],\n",
    "                        [1.e+00, 0.e+00, 4.e+00, 4.e+00, 2.e+00, 1.e+15],\n",
    "                        [4.e+00, 3.e+00, 0.e+00, 3.e+00, 1.e+00, 1.e+15],\n",
    "                        [1.e+00, 2.e+00, 3.e+00, 0.e+00, 4.e+00, 1.e+15],\n",
    "                        [1.e+15, 1.e+15, 1.e+15, 1.e+15, 1.e+15, 0.e+00],\n",
    "                        [0.e+00, 0.e+00, 0.e+00, 0.e+00, 1.e+15, 1.e+15]])"
   ]
  },
  {
   "cell_type": "code",
   "execution_count": 7,
   "metadata": {},
   "outputs": [
    {
     "name": "stdout",
     "output_type": "stream",
     "text": [
      "[0, 4, 5, 3, 1, 2]\n",
      "Objective value = 210.0\n",
      "Time elapsed = 0.7709932327270508\n"
     ]
    }
   ],
   "source": [
    "# Using GLPK\n",
    "cycle, obj_value, time_elapsed = tsp_solver_1(cost_matrix, solver='glpk')\n",
    "print(cycle)\n",
    "print(\"Objective value = {}\".format(obj_value))\n",
    "print(\"Time elapsed = {}\".format(time_elapsed))"
   ]
  },
  {
   "cell_type": "code",
   "execution_count": 8,
   "metadata": {},
   "outputs": [
    {
     "name": "stdout",
     "output_type": "stream",
     "text": [
      "[0, 2, 4, 5, 3, 1]\n",
      "Objective value = 7.0\n",
      "Time elapsed = 0.9319953918457031\n"
     ]
    }
   ],
   "source": [
    "# Using CPLEX\n",
    "cycle, obj_value, time_elapsed = tsp_solver_1(cost_matrix, solver='cplex')\n",
    "print(cycle)\n",
    "print(\"Objective value = {}\".format(obj_value))\n",
    "print(\"Time elapsed = {}\".format(time_elapsed))"
   ]
  },
  {
   "cell_type": "code",
   "execution_count": 9,
   "metadata": {},
   "outputs": [],
   "source": [
    "# Note that if we reduce the entries to 1.e+10, GLPK and CPLEX give the same answer. \n",
    "cost_matrix = np.array([[0.e+00, 2.e+00, 3.e+00, 5.e+00, 2.e+02, 1.e+10],\n",
    "                        [1.e+00, 0.e+00, 4.e+00, 4.e+00, 2.e+00, 1.e+10],\n",
    "                        [4.e+00, 3.e+00, 0.e+00, 3.e+00, 1.e+00, 1.e+10],\n",
    "                        [1.e+00, 2.e+00, 3.e+00, 0.e+00, 4.e+00, 1.e+10],\n",
    "                        [1.e+10, 1.e+10, 1.e+10, 1.e+10, 1.e+10, 0.e+00],\n",
    "                        [0.e+00, 0.e+00, 0.e+00, 0.e+00, 1.e+10, 1.e+10]])"
   ]
  },
  {
   "cell_type": "code",
   "execution_count": 10,
   "metadata": {},
   "outputs": [
    {
     "name": "stdout",
     "output_type": "stream",
     "text": [
      "[0, 2, 4, 5, 3, 1]\n",
      "Objective value = 7.0\n",
      "Time elapsed = 0.8219921588897705\n"
     ]
    }
   ],
   "source": [
    "# Using GLPK\n",
    "cycle, obj_value, time_elapsed = tsp_solver_1(cost_matrix, solver='glpk')\n",
    "print(cycle)\n",
    "print(\"Objective value = {}\".format(obj_value))\n",
    "print(\"Time elapsed = {}\".format(time_elapsed))"
   ]
  },
  {
   "cell_type": "code",
   "execution_count": 11,
   "metadata": {},
   "outputs": [
    {
     "name": "stdout",
     "output_type": "stream",
     "text": [
      "[0, 2, 4, 5, 3, 1]\n",
      "Objective value = 7.0\n",
      "Time elapsed = 1.3979957103729248\n"
     ]
    }
   ],
   "source": [
    "# Using CPLEX\n",
    "cycle, obj_value, time_elapsed = tsp_solver_1(cost_matrix, solver='cplex')\n",
    "print(cycle)\n",
    "print(\"Objective value = {}\".format(obj_value))\n",
    "print(\"Time elapsed = {}\".format(time_elapsed))"
   ]
  },
  {
   "cell_type": "markdown",
   "metadata": {},
   "source": [
    "## Test on asymmetric TSP\n",
    "In the following, we check that the TSP solver correctly solves asymmetric problems. Benchmark problems are from:\n",
    "https://www.iwr.uni-heidelberg.de/groups/comopt/software/TSPLIB95/\n",
    "\n",
    "The ftv35 problem is asymmetric, has 34 data points and an optimal tour length of 1286. "
   ]
  },
  {
   "cell_type": "code",
   "execution_count": 12,
   "metadata": {},
   "outputs": [
    {
     "name": "stdout",
     "output_type": "stream",
     "text": [
      "['NAME:', 'ftv33\\n']\n",
      "['TYPE:', 'ATSP\\n']\n",
      "['COMMENT:', 'Asymmetric', 'TSP', '(Fischetti)\\n']\n",
      "['DIMENSION:', '34\\n']\n",
      "['EDGE_WEIGHT_TYPE:', 'EXPLICIT\\n']\n",
      "['EDGE_WEIGHT_FORMAT:', 'FULL_MATRIX', '\\n']\n",
      "['EDGE_WEIGHT_SECTION\\n']\n",
      "(34, 34)\n"
     ]
    }
   ],
   "source": [
    "from data.atsp_problem import read_atsp_file\n",
    "cost_matrix = read_atsp_file('data/atsp/ftv33.atsp')\n",
    "print(cost_matrix.shape)"
   ]
  },
  {
   "cell_type": "code",
   "execution_count": 13,
   "metadata": {},
   "outputs": [
    {
     "name": "stdout",
     "output_type": "stream",
     "text": [
      "[0, 13, 12, 14, 15, 16, 1, 25, 24, 23, 26, 27, 28, 29, 22, 20, 21, 31, 18, 19, 17, 11, 8, 10, 9, 32, 7, 4, 6, 5, 30, 33, 2, 3]\n",
      "Objective value = 1286.0\n",
      "Time elapsed = 16.8548583984375\n"
     ]
    }
   ],
   "source": [
    "cycle, obj_value, time_elapsed = tsp_solver_1(cost_matrix, solver='glpk')\n",
    "print(cycle)\n",
    "print(\"Objective value = {}\".format(obj_value))\n",
    "print(\"Time elapsed = {}\".format(time_elapsed))\n",
    "assert obj_value == 1286"
   ]
  },
  {
   "cell_type": "markdown",
   "metadata": {},
   "source": [
    "## Pathological case for TSP\n",
    "In the following, we present a pathological case in which the TSP solver fails to return a solution in a reasonable amount of time. In particular, the solver begins to enumerate through an exponential number of subtours, adding them as lazy constraints. Both GLPK and CPLEX suffer from this. \n",
    "\n",
    "The br17 problem is asymmetric, has 17 data points and an optimal tour length of 39. "
   ]
  },
  {
   "cell_type": "code",
   "execution_count": 14,
   "metadata": {},
   "outputs": [
    {
     "name": "stdout",
     "output_type": "stream",
     "text": [
      "['NAME:', '', 'br17\\n']\n",
      "['TYPE:', 'ATSP\\n']\n",
      "['COMMENT:', '17', 'city', 'problem', '(Repetto)\\n']\n",
      "['DIMENSION:', '', '17\\n']\n",
      "['EDGE_WEIGHT_TYPE:', 'EXPLICIT\\n']\n",
      "['EDGE_WEIGHT_FORMAT:', 'FULL_MATRIX', '\\n']\n",
      "['EDGE_WEIGHT_SECTION\\n']\n",
      "(17, 17)\n"
     ]
    }
   ],
   "source": [
    "cost_matrix = read_atsp_file('data/atsp/br17.atsp')\n",
    "print(cost_matrix.shape)"
   ]
  },
  {
   "cell_type": "code",
   "execution_count": 15,
   "metadata": {},
   "outputs": [
    {
     "name": "stdout",
     "output_type": "stream",
     "text": [
      "Number of lazy constraints added = 130\n",
      "Timeout reached after 600 seconds...\n",
      "None\n",
      "Objective value = None\n",
      "Time elapsed = None\n"
     ]
    }
   ],
   "source": [
    "cycle, obj_value, time_elapsed = tsp_solver_1(cost_matrix, solver='glpk',timeout=10*60)\n",
    "print(cycle)\n",
    "print(\"Objective value = {}\".format(obj_value))\n",
    "print(\"Time elapsed = {}\".format(time_elapsed))"
   ]
  },
  {
   "cell_type": "code",
   "execution_count": 16,
   "metadata": {},
   "outputs": [
    {
     "name": "stdout",
     "output_type": "stream",
     "text": [
      "Number of lazy constraints added = 409\n",
      "Timeout reached after 600 seconds...\n",
      "None\n",
      "Objective value = None\n",
      "Time elapsed = None\n"
     ]
    }
   ],
   "source": [
    "cycle, obj_value, time_elapsed = tsp_solver_1(cost_matrix, solver='cplex',timeout=10*60)\n",
    "print(cycle)\n",
    "print(\"Objective value = {}\".format(obj_value))\n",
    "print(\"Time elapsed = {}\".format(time_elapsed))"
   ]
  }
 ],
 "metadata": {
  "kernelspec": {
   "display_name": "py36",
   "language": "python",
   "name": "py36"
  },
  "language_info": {
   "codemirror_mode": {
    "name": "ipython",
    "version": 3
   },
   "file_extension": ".py",
   "mimetype": "text/x-python",
   "name": "python",
   "nbconvert_exporter": "python",
   "pygments_lexer": "ipython3",
   "version": "3.6.6"
  }
 },
 "nbformat": 4,
 "nbformat_minor": 2
}
